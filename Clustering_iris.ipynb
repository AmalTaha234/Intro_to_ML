{
 "cells": [
  {
   "cell_type": "code",
   "execution_count": 1,
   "id": "2e5c130d",
   "metadata": {},
   "outputs": [],
   "source": [
    "import numpy as np\n",
    "import pandas as pd\n",
    "import matplotlib.pyplot as plt\n",
    "import seaborn as sns\n",
    "from sklearn import metrics\n",
    "from sklearn.cluster import KMeans\n",
    "import warnings\n",
    "warnings.filterwarnings('ignore')\n",
    "from sklearn.model_selection import train_test_split\n",
    "from sklearn.svm import SVC\n",
    "from sklearn.metrics import classification_report, confusion_matrix"
   ]
  },
  {
   "cell_type": "code",
   "execution_count": 3,
   "id": "5f2ddf76",
   "metadata": {},
   "outputs": [
    {
     "name": "stdout",
     "output_type": "stream",
     "text": [
      "     sep-len  sep-wid  pet-len  pet-wid\n",
      "0        4.9      3.0      1.4      0.2\n",
      "1        4.7      3.2      1.3      0.2\n",
      "2        4.6      3.1      1.5      0.2\n",
      "3        5.0      3.6      1.4      0.2\n",
      "4        5.4      3.9      1.7      0.4\n",
      "..       ...      ...      ...      ...\n",
      "144      6.7      3.0      5.2      2.3\n",
      "145      6.3      2.5      5.0      1.9\n",
      "146      6.5      3.0      5.2      2.0\n",
      "147      6.2      3.4      5.4      2.3\n",
      "148      5.9      3.0      5.1      1.8\n",
      "\n",
      "[149 rows x 4 columns]\n"
     ]
    }
   ],
   "source": [
    "data='dataset/iris.csv'\n",
    "df=pd.read_csv(data)\n",
    "df.columns =['sep-len', 'sep-wid', 'pet-len', 'pet-wid','class']\n",
    "df=df.drop('class',axis='columns') # drop class column \n",
    "print(df)"
   ]
  },
  {
   "cell_type": "code",
   "execution_count": 7,
   "id": "390f2f4f",
   "metadata": {},
   "outputs": [
    {
     "data": {
      "image/png": "[encoded data removed]",
      "text/plain": [
       "<Figure size 640x480 with 1 Axes>"
      ]
     },
     "metadata": {},
     "output_type": "display_data"
    },
    {
     "name": "stdout",
     "output_type": "stream",
     "text": [
      "0.5867739291153844\n",
      "File saved successfully \n"
     ]
    }
   ],
   "source": [
    "# Between sep-len & pet-len \n",
    "x = df.iloc[:, [0,2]].values\n",
    "k_model = KMeans(n_clusters=3, random_state=1)\n",
    "y_KMeans = k_model.fit_predict(x)\n",
    "plt.scatter(x[y_KMeans == 0, 0], x[y_KMeans == 0, 1], c='red', label='Cluster1')\n",
    "plt.scatter(x[y_KMeans == 1, 0], x[y_KMeans == 1, 1], c='green', label='Cluster2')\n",
    "plt.scatter(x[y_KMeans == 2, 0], x[y_KMeans == 2, 1], c='blue', label='Cluster3')\n",
    "plt.title('iris Clusters')\n",
    "plt.xlabel('sep_len')\n",
    "plt.ylabel('pet_len')\n",
    "plt.legend()\n",
    "plt.show()\n",
    "\n",
    "score = metrics.silhouette_score(x, y_KMeans)\n",
    "print(score)\n",
    "\n",
    "\n",
    "# save dataset\n",
    "z = np.array([x[:, 0], x[:, 1], y_KMeans])\n",
    "z = z.T\n",
    "np.savetxt('dataset/clustered_iris.csv', z, delimiter=',',fmt='%f')\n",
    "print('File saved successfully ')"
   ]
  },
  {
   "cell_type": "code",
   "execution_count": 8,
   "id": "973662fe",
   "metadata": {},
   "outputs": [
    {
     "name": "stdout",
     "output_type": "stream",
     "text": [
      "     sep-len  pet-len  cluster\n",
      "0        4.7      1.3      1.0\n",
      "1        4.6      1.5      1.0\n",
      "2        5.0      1.4      1.0\n",
      "3        5.4      1.7      1.0\n",
      "4        4.6      1.4      1.0\n",
      "..       ...      ...      ...\n",
      "143      6.7      5.2      0.0\n",
      "144      6.3      5.0      2.0\n",
      "145      6.5      5.2      0.0\n",
      "146      6.2      5.4      0.0\n",
      "147      5.9      5.1      2.0\n",
      "\n",
      "[148 rows x 3 columns]\n"
     ]
    }
   ],
   "source": [
    "data='dataset/clustered_iris.csv'\n",
    "df=pd.read_csv(data)\n",
    "df.columns =['sep-len','pet-len', 'cluster']\n",
    "print(df)"
   ]
  },
  {
   "cell_type": "code",
   "execution_count": null,
   "id": "8d7fcc31",
   "metadata": {},
   "outputs": [],
   "source": []
  }
 ],
 "metadata": {
  "kernelspec": {
   "display_name": "Python 3 (ipykernel)",
   "language": "python",
   "name": "python3"
  },
  "language_info": {
   "codemirror_mode": {
    "name": "ipython",
    "version": 3
   },
   "file_extension": ".py",
   "mimetype": "text/x-python",
   "name": "python",
   "nbconvert_exporter": "python",
   "pygments_lexer": "ipython3",
   "version": "3.11.4"
  }
 },
 "nbformat": 4,
 "nbformat_minor": 5
}
