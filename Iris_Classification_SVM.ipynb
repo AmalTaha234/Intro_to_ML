{
 "cells": [
  {
   "cell_type": "code",
   "execution_count": 1,
   "id": "6a8dec9f",
   "metadata": {},
   "outputs": [],
   "source": [
    "import pandas as pd\n",
    "import numpy as np\n",
    "import matplotlib.pyplot as plt\n",
    "from pandas.plotting import scatter_matrix\n",
    "from sklearn.model_selection import train_test_split\n",
    "from sklearn.svm import SVC\n",
    "from sklearn.metrics import classification_report, confusion_matrix\n",
    "from sklearn.metrics import mean_squared_error,r2_score\n",
    "from sklearn.linear_model import LinearRegression\n",
    "from sklearn.preprocessing import PolynomialFeatures"
   ]
  },
  {
   "cell_type": "code",
   "execution_count": 2,
   "id": "563e1a13",
   "metadata": {},
   "outputs": [
    {
     "name": "stdout",
     "output_type": "stream",
     "text": [
      "     sep-len  sep-wid  pet-len  pet-wid           class\n",
      "0        4.9      3.0      1.4      0.2     Iris-setosa\n",
      "1        4.7      3.2      1.3      0.2     Iris-setosa\n",
      "2        4.6      3.1      1.5      0.2     Iris-setosa\n",
      "3        5.0      3.6      1.4      0.2     Iris-setosa\n",
      "4        5.4      3.9      1.7      0.4     Iris-setosa\n",
      "..       ...      ...      ...      ...             ...\n",
      "144      6.7      3.0      5.2      2.3  Iris-virginica\n",
      "145      6.3      2.5      5.0      1.9  Iris-virginica\n",
      "146      6.5      3.0      5.2      2.0  Iris-virginica\n",
      "147      6.2      3.4      5.4      2.3  Iris-virginica\n",
      "148      5.9      3.0      5.1      1.8  Iris-virginica\n",
      "\n",
      "[149 rows x 5 columns]\n"
     ]
    }
   ],
   "source": [
    "data='dataset/iris.csv'\n",
    "df=pd.read_csv(data)\n",
    "df.columns =['sep-len', 'sep-wid', 'pet-len', 'pet-wid','class']\n",
    "print(df)"
   ]
  },
  {
   "cell_type": "markdown",
   "id": "48e4d8de",
   "metadata": {},
   "source": [
    "# Task1"
   ]
  },
  {
   "cell_type": "code",
   "execution_count": 3,
   "id": "6bf26830",
   "metadata": {},
   "outputs": [
    {
     "name": "stdout",
     "output_type": "stream",
     "text": [
      "Enter sep_len: 4.7\n",
      "Enter sep_wid: 3.1\n",
      "Enter pet_len: 1.4\n",
      "Enter pet_wid: 2.3\n",
      "predicted class is : ['Iris-setosa']\n"
     ]
    }
   ],
   "source": [
    "x=df.iloc[:,0:-1].values # 4 features\n",
    "y=df.iloc[:,-1].values\n",
    "x_train,x_test,y_train,y_test=train_test_split(x,y,test_size=0.25,random_state=1)\n",
    "cls=SVC()\n",
    "cls.fit(x_train,y_train)\n",
    "y_pred=cls.predict(x_test)\n",
    "\n",
    "sep_len=input(\"Enter sep_len: \")\n",
    "sep_wid=input(\"Enter sep_wid: \")\n",
    "pet_len=input(\"Enter pet_len: \")\n",
    "pet_wid=input(\"Enter pet_wid: \")\n",
    "result=cls.predict([[sep_len,sep_wid,pet_len,pet_wid]])\n",
    "print(\"predicted class is : \"+str(result))\n"
   ]
  },
  {
   "cell_type": "code",
   "execution_count": 5,
   "id": "70a655d9",
   "metadata": {},
   "outputs": [
    {
     "name": "stdout",
     "output_type": "stream",
     "text": [
      "confusion_matrix \n",
      "\n",
      "  [[13  0  0]\n",
      " [ 0 14  0]\n",
      " [ 0  1 10]]\n",
      "\n",
      " classification_report \n",
      "\n",
      "                  precision    recall  f1-score   support\n",
      "\n",
      "    Iris-setosa       1.00      1.00      1.00        13\n",
      "Iris-versicolor       0.93      1.00      0.97        14\n",
      " Iris-virginica       1.00      0.91      0.95        11\n",
      "\n",
      "       accuracy                           0.97        38\n",
      "      macro avg       0.98      0.97      0.97        38\n",
      "   weighted avg       0.98      0.97      0.97        38\n",
      "\n"
     ]
    }
   ],
   "source": [
    "print(\"confusion_matrix \\n\\n \",confusion_matrix(y_test,y_pred))\n",
    "print(\"\\n classification_report \\n\\n\",classification_report(y_test,y_pred))"
   ]
  },
  {
   "cell_type": "markdown",
   "id": "78171a0a",
   "metadata": {},
   "source": [
    "# Task2"
   ]
  },
  {
   "cell_type": "code",
   "execution_count": 6,
   "id": "799c4534",
   "metadata": {},
   "outputs": [
    {
     "name": "stdout",
     "output_type": "stream",
     "text": [
      "corrcoaf between sep-len & sep-wid: \n",
      "\n",
      " [[ 1.         -0.10378415]\n",
      " [-0.10378415  1.        ]]\n"
     ]
    }
   ],
   "source": [
    "x=df.iloc[:,0].values # sep-len\n",
    "y=df.iloc[:,1].values # sep-wid\n",
    "corr=np.corrcoef(x,y)\n",
    "print(\"corrcoaf between sep-len & sep-wid: \\n\\n\",corr)"
   ]
  },
  {
   "cell_type": "code",
   "execution_count": 7,
   "id": "14df65ea",
   "metadata": {},
   "outputs": [
    {
     "name": "stdout",
     "output_type": "stream",
     "text": [
      "corrcoaf between sep-len & pet-len: \n",
      "\n",
      " [[1.         0.87128294]\n",
      " [0.87128294 1.        ]]\n"
     ]
    }
   ],
   "source": [
    "x=df.iloc[:,0].values # sep-len\n",
    "y=df.iloc[:,2].values # pet-len\n",
    "corr=np.corrcoef(x,y)\n",
    "print(\"corrcoaf between sep-len & pet-len: \\n\\n\",corr)"
   ]
  },
  {
   "cell_type": "code",
   "execution_count": 8,
   "id": "29f1d2e9",
   "metadata": {},
   "outputs": [
    {
     "name": "stdout",
     "output_type": "stream",
     "text": [
      "corrcoaf between sep-len & pet-wid : \n",
      "\n",
      " [[1.         0.81697087]\n",
      " [0.81697087 1.        ]]\n"
     ]
    }
   ],
   "source": [
    "x=df.iloc[:,0].values # sep-len\n",
    "y=df.iloc[:,3].values # pet-wid  \n",
    "corr=np.corrcoef(x,y)\n",
    "print(\"corrcoaf between sep-len & pet-wid : \\n\\n\",corr)"
   ]
  },
  {
   "cell_type": "code",
   "execution_count": 12,
   "id": "5ac565ff",
   "metadata": {},
   "outputs": [
    {
     "name": "stdout",
     "output_type": "stream",
     "text": [
      "Enter sep_wid: 3.0\n",
      "Enter pet_len: 1.4\n",
      "Enter pet_wid: 0.2\n",
      "sep_len_pred : 4.8619780674455795\n",
      "predicted class is :  Iris-setosa\n"
     ]
    }
   ],
   "source": [
    "# we will use pet-len to predict sep-len \n",
    "  #  Linear Regression Model to predict sep-len \n",
    "    \n",
    "       # x----> pet-len\n",
    "       # y-----> sep-len\n",
    "    # building model \n",
    "x=df.iloc[:,2].values # pet-len\n",
    "y=df.iloc[:,0].values # sep-len\n",
    "\n",
    "x_train,x_test,y_train,y_test=train_test_split(x,y,test_size=0.2,random_state=1)\n",
    "\n",
    "x_train=x_train.reshape(-1,1)\n",
    "x_test=x_test.reshape(-1,1)\n",
    "y_train=y_train.reshape(-1,1)\n",
    "y_test=y_test.reshape(-1,1)\n",
    "\n",
    "lin_reg=LinearRegression() \n",
    "lin_reg.fit(x_train,y_train)\n",
    "\n",
    "# classification model\n",
    "\n",
    "sep_wid=float(input(\"Enter sep_wid: \"))\n",
    "pet_len=float(input(\"Enter pet_len: \"))\n",
    "pet_wid=float(input(\"Enter pet_wid: \"))\n",
    "\n",
    "sep_len_pred=lin_reg.predict(np.array(pet_len).reshape(-1, 1))  # Expected 2D array\n",
    "\n",
    "result=cls.predict([[sep_len_pred[0,0],sep_wid,pet_len,pet_wid]])\n",
    "\n",
    "print(\"sep_len_pred :\",sep_len_pred[0,0])\n",
    "print(\"predicted class is : \",result[0])"
   ]
  },
  {
   "cell_type": "markdown",
   "id": "edee048b",
   "metadata": {},
   "source": [
    "# Task3"
   ]
  },
  {
   "cell_type": "code",
   "execution_count": 10,
   "id": "57870fcf",
   "metadata": {},
   "outputs": [
    {
     "name": "stdout",
     "output_type": "stream",
     "text": [
      "corrcoaf between sep-wid & sep_len: \n",
      "\n",
      " [[ 1.         -0.10378415]\n",
      " [-0.10378415  1.        ]]\n"
     ]
    }
   ],
   "source": [
    "# use sep_wid to find sep_len \n",
    "x=df.iloc[:,1].values # sep-wid\n",
    "y=df.iloc[:,0].values # sep_len\n",
    "corr=np.corrcoef(x,y)\n",
    "print(\"corrcoaf between sep-wid & sep_len: \\n\\n\",corr)"
   ]
  },
  {
   "cell_type": "code",
   "execution_count": 13,
   "id": "e3e77803",
   "metadata": {},
   "outputs": [
    {
     "name": "stdout",
     "output_type": "stream",
     "text": [
      "Enter sep_wid: 3.0\n",
      "Enter pet_len: 1.4\n",
      "Enter pet_wid: 0.2\n",
      "sep_len_pred : 5.881045193855513\n",
      "predicted class is :  Iris-setosa\n"
     ]
    }
   ],
   "source": [
    "# we will use sep_wid to find sep_len \n",
    "  #  Linear Regression Model to predict sep-len from sep-wid\n",
    "    \n",
    "       # x----> pet-len\n",
    "       # y-----> sep-len\n",
    "    # building model \n",
    "x=df.iloc[:,1].values # sep_wid\n",
    "y=df.iloc[:,0].values # sep-len\n",
    "\n",
    "x_train,x_test,y_train,y_test=train_test_split(x,y,test_size=0.2,random_state=1)\n",
    "\n",
    "x_train=x_train.reshape(-1,1)\n",
    "x_test=x_test.reshape(-1,1)\n",
    "y_train=y_train.reshape(-1,1)\n",
    "y_test=y_test.reshape(-1,1)\n",
    "\n",
    "lin_reg=LinearRegression() \n",
    "lin_reg.fit(x_train,y_train)\n",
    "\n",
    "\n",
    "sep_wid=float(input(\"Enter sep_wid: \"))\n",
    "pet_len=float(input(\"Enter pet_len: \"))\n",
    "pet_wid=float(input(\"Enter pet_wid: \"))\n",
    "\n",
    "sep_len_pred=lin_reg.predict(np.array(sep_wid).reshape(-1, 1))  # Expected 2D array\n",
    "\n",
    "result=cls.predict([[sep_len_pred[0,0],sep_wid,pet_len,pet_wid]])\n",
    "print(\"sep_len_pred :\",sep_len_pred[0,0])\n",
    "print(\"predicted class is : \",result[0])"
   ]
  },
  {
   "cell_type": "code",
   "execution_count": 14,
   "id": "538bb01e",
   "metadata": {},
   "outputs": [
    {
     "name": "stdout",
     "output_type": "stream",
     "text": [
      "Enter sep_len: 4.9\n",
      "Enter sep_wid: 3.0\n",
      "Enter pet_wid: 0.2\n",
      "pet_len_pred : 1.526854741011012\n",
      "predicted class is :  Iris-setosa\n"
     ]
    }
   ],
   "source": [
    "# we will use pet_wid to find pet_len\n",
    "  #  Linear Regression Model to predict pet-len from pet-wid\n",
    "    \n",
    "       # x----> pet-wid\n",
    "       # y-----> pet-len\n",
    "    # building model \n",
    "x=df.iloc[:,3].values # pet_wid\n",
    "y=df.iloc[:,2].values # pet-len\n",
    "\n",
    "x_train,x_test,y_train,y_test=train_test_split(x,y,test_size=0.2,random_state=1)\n",
    "\n",
    "x_train=x_train.reshape(-1,1)\n",
    "x_test=x_test.reshape(-1,1)\n",
    "y_train=y_train.reshape(-1,1)\n",
    "y_test=y_test.reshape(-1,1)\n",
    "\n",
    "lin_reg=LinearRegression() \n",
    "lin_reg.fit(x_train,y_train)\n",
    "\n",
    "sep_len=float(input(\"Enter sep_len: \"))\n",
    "sep_wid=float(input(\"Enter sep_wid: \"))\n",
    "pet_wid=float(input(\"Enter pet_wid: \"))\n",
    "\n",
    "pet_len_pred=lin_reg.predict(np.array(pet_wid).reshape(-1, 1))  # Expected 2D array\n",
    "\n",
    "result=cls.predict([[sep_len,sep_wid,pet_len_pred[0,0],pet_wid]])\n",
    "print(\"pet_len_pred :\",pet_len_pred[0,0])\n",
    "print(\"predicted class is : \",result[0])"
   ]
  },
  {
   "cell_type": "code",
   "execution_count": null,
   "id": "dc9312cf",
   "metadata": {},
   "outputs": [],
   "source": []
  }
 ],
 "metadata": {
  "kernelspec": {
   "display_name": "Python 3 (ipykernel)",
   "language": "python",
   "name": "python3"
  },
  "language_info": {
   "codemirror_mode": {
    "name": "ipython",
    "version": 3
   },
   "file_extension": ".py",
   "mimetype": "text/x-python",
   "name": "python",
   "nbconvert_exporter": "python",
   "pygments_lexer": "ipython3",
   "version": "3.11.4"
  }
 },
 "nbformat": 4,
 "nbformat_minor": 5
}
