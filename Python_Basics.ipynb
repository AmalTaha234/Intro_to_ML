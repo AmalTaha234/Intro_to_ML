{
 "cells": [
  {
   "cell_type": "code",
   "execution_count": 3,
   "id": "f2bc80fe",
   "metadata": {},
   "outputs": [
    {
     "data": {
      "text/plain": [
       "'amal taha'"
      ]
     },
     "execution_count": 3,
     "metadata": {},
     "output_type": "execute_result"
    }
   ],
   "source": [
    "# 01. Read two strings from user then concatenate them and store the concatenation in string:\n",
    "\n",
    "str0 = input(\"Enter first str : \")\n",
    "str1 = input(\"Enter second str : \")                                                                      \n",
    "str2 = str0 +' '+ str1\n",
    "str2"
   ]
  },
  {
   "cell_type": "code",
   "execution_count": 3,
   "id": "e6161624",
   "metadata": {},
   "outputs": [
    {
     "name": "stdout",
     "output_type": "stream",
     "text": [
      "Enter str : amal\n"
     ]
    },
    {
     "data": {
      "text/plain": [
       "'Amal'"
      ]
     },
     "execution_count": 3,
     "metadata": {},
     "output_type": "execute_result"
    }
   ],
   "source": [
    "# 02. Read string from user then converts the first character to upper case:\n",
    "\n",
    "str = input(\"Enter str : \")\n",
    "res=str.capitalize()\n",
    "res"
   ]
  },
  {
   "cell_type": "code",
   "execution_count": 4,
   "id": "965d2987",
   "metadata": {},
   "outputs": [
    {
     "name": "stdout",
     "output_type": "stream",
     "text": [
      "Enter str : AMAL\n"
     ]
    },
    {
     "data": {
      "text/plain": [
       "'amal'"
      ]
     },
     "execution_count": 4,
     "metadata": {},
     "output_type": "execute_result"
    }
   ],
   "source": [
    "# 03. Read string from user then convert this string to lower case:\n",
    "\n",
    "str = input(\"Enter str : \")\n",
    "res=str.lower()\n",
    "res"
   ]
  },
  {
   "cell_type": "code",
   "execution_count": 5,
   "id": "ab77499a",
   "metadata": {},
   "outputs": [
    {
     "name": "stdout",
     "output_type": "stream",
     "text": [
      "Enter str : amal taha \n"
     ]
    },
    {
     "data": {
      "text/plain": [
       "'AMAL TAHA '"
      ]
     },
     "execution_count": 5,
     "metadata": {},
     "output_type": "execute_result"
    }
   ],
   "source": [
    "# 04. Read string from user then convert this string to upper case:\n",
    "\n",
    "str = input(\"Enter str : \")\n",
    "res=str.upper()\n",
    "res"
   ]
  },
  {
   "cell_type": "code",
   "execution_count": 7,
   "id": "8b7ce72d",
   "metadata": {},
   "outputs": [
    {
     "name": "stdout",
     "output_type": "stream",
     "text": [
      "Enter str : amal\n",
      "Enter char : f\n",
      "This char isn't exist\n"
     ]
    }
   ],
   "source": [
    "# 05. Read string from user then enter character and show if this string contains\n",
    "# this character or no and if yes show its index in string:\n",
    "str = input(\"Enter str : \")\n",
    "char = input(\"Enter char : \")\n",
    "if char in str:\n",
    "    index = str.index(char)\n",
    "    print(index)\n",
    "else:\n",
    "    print(\"This char isn't exist\")"
   ]
  },
  {
   "cell_type": "code",
   "execution_count": 8,
   "id": "ae8db72a",
   "metadata": {},
   "outputs": [
    {
     "name": "stdout",
     "output_type": "stream",
     "text": [
      "Enter str : eng amal taha \n",
      "eng,amal,taha,\n"
     ]
    }
   ],
   "source": [
    "# 06. Read string from user then replace each space ' ' by comma ',':\n",
    "str = input(\"Enter str : \")\n",
    "res=str.replace(' ',',')\n",
    "print(res)"
   ]
  },
  {
   "cell_type": "code",
   "execution_count": 9,
   "id": "86966f25",
   "metadata": {},
   "outputs": [
    {
     "name": "stdout",
     "output_type": "stream",
     "text": [
      "Enter str : amal taha shaaban\n"
     ]
    },
    {
     "data": {
      "text/plain": [
       "'Amal Taha Shaaban'"
      ]
     },
     "execution_count": 9,
     "metadata": {},
     "output_type": "execute_result"
    }
   ],
   "source": [
    "# 07. Read string from user then convert the first character of each word to upper case:\n",
    "import string\n",
    "str = input(\"Enter str : \")\n",
    "string.capwords(str)"
   ]
  },
  {
   "cell_type": "code",
   "execution_count": 10,
   "id": "f15b12a0",
   "metadata": {},
   "outputs": [
    {
     "name": "stdout",
     "output_type": "stream",
     "text": [
      "Enter str : amal,taha,shaaban\n",
      "amal*taha*shaaban\n"
     ]
    }
   ],
   "source": [
    "# 08. Read string from user then replace each comma by ',' by astrisk '*':\n",
    "str = input(\"Enter str : \")\n",
    "res=str.replace(',','*')\n",
    "print(res)"
   ]
  },
  {
   "cell_type": "code",
   "execution_count": 11,
   "id": "2cbdda07",
   "metadata": {},
   "outputs": [
    {
     "name": "stdout",
     "output_type": "stream",
     "text": [
      "Enter str :    aml taha shaaban  \n",
      "aml taha shaaban\n"
     ]
    }
   ],
   "source": [
    "# 09. Read string from user then remove all spaces at the first and the last:\n",
    "str = input(\"Enter str : \")\n",
    "res=str.strip() \n",
    "print(res)"
   ]
  },
  {
   "cell_type": "code",
   "execution_count": 12,
   "id": "2172e28b",
   "metadata": {},
   "outputs": [
    {
     "name": "stdout",
     "output_type": "stream",
     "text": [
      "Enter str : amal taha shaaban\n",
      "['amal', 'taha', 'shaaban']\n"
     ]
    }
   ],
   "source": [
    "# 10. Read string from user then convert string to list by splitting string after each space:\n",
    "import string\n",
    "str = input(\"Enter str : \")\n",
    "str_list=str.split()\n",
    "print(str_list)"
   ]
  },
  {
   "cell_type": "code",
   "execution_count": 15,
   "id": "3e3128ca",
   "metadata": {},
   "outputs": [
    {
     "name": "stdout",
     "output_type": "stream",
     "text": [
      "Enter str : hano\n",
      "not vowel\n"
     ]
    }
   ],
   "source": [
    "# 11. Read string and check if this string starts with vowel or not:\n",
    "str = input(\"Enter str : \")\n",
    "str_res=str.upper()\n",
    "if str_res[0] in ['A', 'E', 'I', 'O', 'U']:\n",
    "    print (\"vowel\")\n",
    "else:\n",
    "    print (\"not vowel\")"
   ]
  },
  {
   "cell_type": "code",
   "execution_count": 19,
   "id": "0f7e85bb",
   "metadata": {},
   "outputs": [
    {
     "name": "stdout",
     "output_type": "stream",
     "text": [
      "enter numbers of elements : 3\n",
      "5\n",
      "6\n",
      "3\n"
     ]
    },
    {
     "data": {
      "text/plain": [
       "[3, 5, 6]"
      ]
     },
     "execution_count": 19,
     "metadata": {},
     "output_type": "execute_result"
    }
   ],
   "source": [
    "# 12. Read list from user then sort this list:\n",
    "lst=[]\n",
    "n=int(input(\"enter numbers of elements : \"))\n",
    "for i in range(0,n):\n",
    "    element=int(input(\"\"))\n",
    "    lst.append(element)\n",
    "    lst.sort()\n",
    "lst"
   ]
  },
  {
   "cell_type": "code",
   "execution_count": 22,
   "id": "b0b621e9",
   "metadata": {},
   "outputs": [
    {
     "name": "stdout",
     "output_type": "stream",
     "text": [
      "enter numbers of elements : 5\n",
      "3\n",
      "4\n",
      "5\n",
      "6\n",
      "7\n"
     ]
    },
    {
     "data": {
      "text/plain": [
       "[4, 5, 6, 7]"
      ]
     },
     "execution_count": 22,
     "metadata": {},
     "output_type": "execute_result"
    }
   ],
   "source": [
    "# 13. Read list from user then get the second-to-last number in the list: -----> slicing\n",
    "lst=[]\n",
    "n=int(input(\"enter numbers of elements : \"))\n",
    "for i in range(0,n):\n",
    "    element=int(input())\n",
    "    lst.append(element)\n",
    "lst[1:]\n"
   ]
  },
  {
   "cell_type": "code",
   "execution_count": 23,
   "id": "2f8bc276",
   "metadata": {},
   "outputs": [
    {
     "name": "stdout",
     "output_type": "stream",
     "text": [
      "enter numbers of elements : 3\n",
      "30\n",
      "50\n",
      "70\n"
     ]
    },
    {
     "data": {
      "text/plain": [
       "70"
      ]
     },
     "execution_count": 23,
     "metadata": {},
     "output_type": "execute_result"
    }
   ],
   "source": [
    "# 14. Read list of degrees and find the max degree in this list:\n",
    "lst=[]\n",
    "n=int(input(\"enter numbers of elements : \"))\n",
    "for i in range(0,n):\n",
    "    element=int(input())\n",
    "    lst.append(element)\n",
    "\n",
    "y=max(lst)\n",
    "y\n"
   ]
  },
  {
   "cell_type": "code",
   "execution_count": 52,
   "id": "d98a88d1",
   "metadata": {},
   "outputs": [
    {
     "name": "stdout",
     "output_type": "stream",
     "text": [
      "Enter a list of words: amal taha shaaban\n",
      "shaaban\n"
     ]
    }
   ],
   "source": [
    "# 15. Read list of words and find longest word :\n",
    "\n",
    "def find_longest_word(word_list):\n",
    "    longest_word = \"\"\n",
    "    for word in word_list:\n",
    "        if len(word) > len(longest_word):\n",
    "            longest_word = word\n",
    "    return longest_word\n",
    "\n",
    "words_input = input(\"Enter a list of words: \")\n",
    "word_list = words_input.split(\" \")\n",
    "longest_word = find_longest_word(word_list)\n",
    "\n",
    "print(longest_word)\n"
   ]
  },
  {
   "cell_type": "code",
   "execution_count": 26,
   "id": "64134fe0",
   "metadata": {},
   "outputs": [
    {
     "name": "stdout",
     "output_type": "stream",
     "text": [
      "enter numbers of elements : 3\n",
      "4\n",
      "5\n",
      "6\n"
     ]
    },
    {
     "data": {
      "text/plain": [
       "[4, 5, 6]"
      ]
     },
     "execution_count": 26,
     "metadata": {},
     "output_type": "execute_result"
    }
   ],
   "source": [
    "# 16. Read list and append any item to this list :\n",
    "lst=[]\n",
    "n=int(input(\"enter numbers of elements : \"))\n",
    "for i in range(0,n):\n",
    "    element=int(input())\n",
    "    lst.append(element)\n",
    "lst"
   ]
  },
  {
   "cell_type": "code",
   "execution_count": 27,
   "id": "698a77f2",
   "metadata": {},
   "outputs": [
    {
     "name": "stdout",
     "output_type": "stream",
     "text": [
      "enter numbers of elements : 3\n",
      "4\n",
      "6\n",
      "7\n",
      "enter item you want to remove7\n"
     ]
    },
    {
     "data": {
      "text/plain": [
       "[4, 6]"
      ]
     },
     "execution_count": 27,
     "metadata": {},
     "output_type": "execute_result"
    }
   ],
   "source": [
    "# 17. Read list from user then give user the apility to remove item with the specified value : \n",
    "lst=[]\n",
    "n=int(input(\"enter numbers of elements : \"))\n",
    "for i in range(0,n):\n",
    "    element=int(input())\n",
    "    lst.append(element)\n",
    "\n",
    "item=int(input(\"enter item you want to remove\"))\n",
    "if item in lst:\n",
    "    lst.remove(item)\n",
    "lst"
   ]
  },
  {
   "cell_type": "code",
   "execution_count": 28,
   "id": "50ed8a23",
   "metadata": {},
   "outputs": [
    {
     "data": {
      "text/plain": [
       "(1, 2, 3)"
      ]
     },
     "execution_count": 28,
     "metadata": {},
     "output_type": "execute_result"
    }
   ],
   "source": [
    "# 18. Write a Python program to convert a list to a tuple :\n",
    "lst=[1,2,3]\n",
    "tup=tuple(lst)\n",
    "tup"
   ]
  },
  {
   "cell_type": "code",
   "execution_count": 29,
   "id": "99276d5d",
   "metadata": {},
   "outputs": [
    {
     "data": {
      "text/plain": [
       "(4, 3, 2, 1)"
      ]
     },
     "execution_count": 29,
     "metadata": {},
     "output_type": "execute_result"
    }
   ],
   "source": [
    "# 19. Write a Python program to reverse a tuple:\n",
    "tup=(1,2,3,4)\n",
    "rev_tup=tup[::-1]\n",
    "rev_tup"
   ]
  },
  {
   "cell_type": "code",
   "execution_count": 30,
   "id": "4ceeaf2c",
   "metadata": {},
   "outputs": [
    {
     "data": {
      "text/plain": [
       "4"
      ]
     },
     "execution_count": 30,
     "metadata": {},
     "output_type": "execute_result"
    }
   ],
   "source": [
    "# 20. Write a python program to find size of set:\n",
    "st=(1,2,3,4)\n",
    "res_st=len(st)\n",
    "res_st"
   ]
  },
  {
   "cell_type": "code",
   "execution_count": 33,
   "id": "fc5a4c00",
   "metadata": {},
   "outputs": [
    {
     "name": "stdout",
     "output_type": "stream",
     "text": [
      "enter numbers of elements : 3\n",
      "1\n",
      "2\n",
      "1\n",
      "distinct items : 1\n",
      "distinct items : 2\n"
     ]
    }
   ],
   "source": [
    "# 21. Write a program to Read list from user then print distinct items in this list:\n",
    "lst=[]\n",
    "n=int(input(\"enter numbers of elements : \"))\n",
    "for i in range(0,n):\n",
    "    element=int(input())\n",
    "    lst.append(element)\n",
    "\n",
    "unique_lst =[]\n",
    "for x in lst:\n",
    "    if x not in unique_lst:\n",
    "        unique_lst.append(x)\n",
    "for x in unique_lst:\n",
    "    print(\"distinct items :\",x)"
   ]
  },
  {
   "cell_type": "code",
   "execution_count": 34,
   "id": "3187a1dc",
   "metadata": {},
   "outputs": [
    {
     "data": {
      "text/plain": [
       "100"
      ]
     },
     "execution_count": 34,
     "metadata": {},
     "output_type": "execute_result"
    }
   ],
   "source": [
    "# 22. Write a program to find sum of all items in tuples:\n",
    "tup=(1,2,3,4,80,10)\n",
    "sum=0\n",
    "for i in tup:\n",
    "    sum+=i\n",
    "sum"
   ]
  },
  {
   "cell_type": "code",
   "execution_count": 35,
   "id": "3e0968f0",
   "metadata": {},
   "outputs": [
    {
     "data": {
      "text/plain": [
       "[]"
      ]
     },
     "execution_count": 35,
     "metadata": {},
     "output_type": "execute_result"
    }
   ],
   "source": [
    "# 23. Write a program Removes all the elements from the list:\n",
    "lst=[1,2,3,4,7]\n",
    "lst.clear()\n",
    "lst"
   ]
  },
  {
   "cell_type": "code",
   "execution_count": 36,
   "id": "ede78472",
   "metadata": {},
   "outputs": [
    {
     "data": {
      "text/plain": [
       "dict_values(['Aml', 'Baba', 'somaya'])"
      ]
     },
     "execution_count": 36,
     "metadata": {},
     "output_type": "execute_result"
    }
   ],
   "source": [
    "# 24. Write a program to print dictionary values without keys:\n",
    "dic={\n",
    "    1:'Aml',\n",
    "    2:'Baba',\n",
    "    3:'somaya'\n",
    "}\n",
    "dic.values()"
   ]
  },
  {
   "cell_type": "code",
   "execution_count": 37,
   "id": "1846c977",
   "metadata": {},
   "outputs": [
    {
     "data": {
      "text/plain": [
       "dict_keys([1, 2, 3])"
      ]
     },
     "execution_count": 37,
     "metadata": {},
     "output_type": "execute_result"
    }
   ],
   "source": [
    "# 25. Write a program to print dictionary keys only:\n",
    "dic={\n",
    "    1:'Aml',\n",
    "    2:'Baba',\n",
    "    3:'somaya'\n",
    "}\n",
    "dic.keys()"
   ]
  },
  {
   "cell_type": "code",
   "execution_count": 38,
   "id": "fa933cd3",
   "metadata": {},
   "outputs": [
    {
     "data": {
      "text/plain": [
       "'Baba'"
      ]
     },
     "execution_count": 38,
     "metadata": {},
     "output_type": "execute_result"
    }
   ],
   "source": [
    "# 26. Write a program to print a specefic item by key:\n",
    "dic={\n",
    "    1:'Aml',\n",
    "    2:'Baba',\n",
    "    3:'somaya'\n",
    "}\n",
    "dic[2]"
   ]
  },
  {
   "cell_type": "code",
   "execution_count": 39,
   "id": "3004ba8c",
   "metadata": {},
   "outputs": [
    {
     "data": {
      "text/plain": [
       "dict_items([(1, 'Aml'), (2, 'hano'), (3, 'somaya'), (4, 'mama')])"
      ]
     },
     "execution_count": 39,
     "metadata": {},
     "output_type": "execute_result"
    }
   ],
   "source": [
    "# 27. Write a Python program to remove duplicates from Dictionary:\n",
    "dic={\n",
    "    1:'Aml',\n",
    "    2:'Baba',\n",
    "    3:'somaya',\n",
    "    4:'mama',\n",
    "    2:'hano',\n",
    "    1:'Aml'\n",
    "}\n",
    "dic.items()"
   ]
  },
  {
   "cell_type": "code",
   "execution_count": 40,
   "id": "d25b1779",
   "metadata": {},
   "outputs": [
    {
     "name": "stdout",
     "output_type": "stream",
     "text": [
      "not\n"
     ]
    }
   ],
   "source": [
    "# 28. Write a Python program to check a dictionary is empty or not:\n",
    "dic={'A':'Aml','B':'Baba'}\n",
    "if (len(dic) == 0): \n",
    "    print(\"empty\")\n",
    "else:\n",
    "    print(\"not\")"
   ]
  },
  {
   "cell_type": "code",
   "execution_count": 42,
   "id": "6e7e1ed3",
   "metadata": {},
   "outputs": [
    {
     "name": "stdout",
     "output_type": "stream",
     "text": [
      "[0. 0. 0. 0. 0. 0. 0. 0. 0. 0.]\n",
      "[1. 1. 1. 1. 1. 1. 1. 1. 1. 1.]\n"
     ]
    }
   ],
   "source": [
    "# 29. Write a NumPy program to create an array of 10 zeros and 10 ones:\n",
    "import numpy as np\n",
    "a_zeros=np.zeros(10)\n",
    "a_ones=np.ones(10)\n",
    "print(a_zeros)\n",
    "print(a_ones)"
   ]
  },
  {
   "cell_type": "code",
   "execution_count": 45,
   "id": "4c26e12a",
   "metadata": {},
   "outputs": [
    {
     "data": {
      "text/plain": [
       "0.6147550777659982"
      ]
     },
     "execution_count": 45,
     "metadata": {},
     "output_type": "execute_result"
    }
   ],
   "source": [
    "# 30. Write a NumPy program to generate a random number between 0 and 1:\n",
    "a=np.random.random()\n",
    "a\n"
   ]
  },
  {
   "cell_type": "code",
   "execution_count": 46,
   "id": "7c2258ed",
   "metadata": {},
   "outputs": [
    {
     "data": {
      "text/plain": [
       "array([[30, 31, 32, 33, 34, 35, 36, 37],\n",
       "       [38, 39, 40, 41, 42, 43, 44, 45],\n",
       "       [46, 47, 48, 49, 50, 51, 52, 53],\n",
       "       [54, 55, 56, 57, 58, 59, 60, 61],\n",
       "       [62, 63, 64, 65, 66, 67, 68, 69]])"
      ]
     },
     "execution_count": 46,
     "metadata": {},
     "output_type": "execute_result"
    }
   ],
   "source": [
    "# 31. Write a NumPy program to create an array of the integers from 30 to 70.\n",
    "a=np.arange(30,70).reshape(5,8)\n",
    "a"
   ]
  },
  {
   "cell_type": "code",
   "execution_count": 4,
   "id": "8c866fa9",
   "metadata": {},
   "outputs": [
    {
     "name": "stdout",
     "output_type": "stream",
     "text": [
      "amal \n"
     ]
    }
   ],
   "source": [
    "# testing\n",
    "print(\"amal \")"
   ]
  },
  {
   "cell_type": "code",
   "execution_count": null,
   "id": "7a468a5f",
   "metadata": {},
   "outputs": [],
   "source": []
  }
 ],
 "metadata": {
  "kernelspec": {
   "display_name": "Python 3 (ipykernel)",
   "language": "python",
   "name": "python3"
  },
  "language_info": {
   "codemirror_mode": {
    "name": "ipython",
    "version": 3
   },
   "file_extension": ".py",
   "mimetype": "text/x-python",
   "name": "python",
   "nbconvert_exporter": "python",
   "pygments_lexer": "ipython3",
   "version": "3.11.4"
  }
 },
 "nbformat": 4,
 "nbformat_minor": 5
}
