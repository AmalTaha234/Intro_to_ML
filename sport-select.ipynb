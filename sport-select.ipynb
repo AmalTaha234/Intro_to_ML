{
 "cells": [
  {
   "cell_type": "code",
   "execution_count": 2,
   "id": "8dcee182",
   "metadata": {},
   "outputs": [],
   "source": [
    "import pandas as pd\n",
    "import numpy as np \n",
    "from sklearn.decomposition import PCA\n",
    "import warnings\n",
    "warnings.filterwarnings('ignore')\n",
    "from sklearn.model_selection import train_test_split\n",
    "from sklearn.feature_selection import chi2\n",
    "from sklearn.feature_selection import SelectKBest\n"
   ]
  },
  {
   "cell_type": "code",
   "execution_count": 14,
   "id": "f18d97e6",
   "metadata": {},
   "outputs": [
    {
     "name": "stdout",
     "output_type": "stream",
     "text": [
      "     Height  weight  Age   class\n",
      "0       170      75   26  basket\n",
      "1       194      91   35  basket\n",
      "2       191      95   36  basket\n",
      "3       196      93   36  basket\n",
      "4       195      88   37  basket\n",
      "..      ...     ...  ...     ...\n",
      "595     165     111   17    sumo\n",
      "596     156     119   27    sumo\n",
      "597     169     121   15    sumo\n",
      "598     153     125   26    sumo\n",
      "599     154     103   24    sumo\n",
      "\n",
      "[600 rows x 4 columns]\n"
     ]
    }
   ],
   "source": [
    "data='dataset/sport4.csv'\n",
    "df=pd.read_csv(data,header=None)\n",
    "df.columns =['Height', 'weight','Age','class']\n",
    "print(df)"
   ]
  },
  {
   "cell_type": "code",
   "execution_count": 15,
   "id": "a3d220b5",
   "metadata": {},
   "outputs": [],
   "source": [
    "array=df.values"
   ]
  },
  {
   "cell_type": "code",
   "execution_count": 16,
   "id": "aef1d614",
   "metadata": {},
   "outputs": [
    {
     "data": {
      "text/plain": [
       "(600, 4)"
      ]
     },
     "execution_count": 16,
     "metadata": {},
     "output_type": "execute_result"
    }
   ],
   "source": [
    "array.shape"
   ]
  },
  {
   "cell_type": "code",
   "execution_count": 17,
   "id": "2852b5e2",
   "metadata": {},
   "outputs": [
    {
     "name": "stdout",
     "output_type": "stream",
     "text": [
      "fit scores : \n",
      "[ 387.8 3026.   390.5]\n",
      "(600, 3)\n",
      "(600, 2)\n"
     ]
    }
   ],
   "source": [
    "x=array[:,0:3] # 0 1 2 \n",
    "y=array[:,3] \n",
    "chi=SelectKBest(score_func=chi2,k=2)\n",
    "fit=chi.fit(x,y)\n",
    "np.set_printoptions(precision=1) # كام رقم عشري \n",
    "print('fit scores : ')\n",
    "print(fit.scores_)\n",
    "x_sel=fit.transform(x) # ---> x_sel (subset)\n",
    "print(x.shape)\n",
    "print(x_sel.shape)"
   ]
  },
  {
   "cell_type": "code",
   "execution_count": 18,
   "id": "896e6609",
   "metadata": {},
   "outputs": [
    {
     "name": "stdout",
     "output_type": "stream",
     "text": [
      "[[170 75 26]\n",
      " [194 91 35]\n",
      " [191 95 36]\n",
      " [196 93 36]\n",
      " [195 88 37]]\n",
      "[[75 26]\n",
      " [91 35]\n",
      " [95 36]\n",
      " [93 36]\n",
      " [88 37]]\n"
     ]
    }
   ],
   "source": [
    "# part of them \n",
    "print(x[:5,:])\n",
    "print(x_sel[:5,:])"
   ]
  },
  {
   "cell_type": "code",
   "execution_count": 19,
   "id": "d8da4670",
   "metadata": {},
   "outputs": [
    {
     "name": "stdout",
     "output_type": "stream",
     "text": [
      "File saved successfully \n"
     ]
    }
   ],
   "source": [
    "# save dataset\n",
    "z = np.array([x_sel[:, 0], x_sel[:, 1],y])\n",
    "z = z.T\n",
    "np.savetxt('dataset/selected_sport.csv', z, delimiter=',',fmt='%1.2f,%1.2f,%s')\n",
    "print('File saved successfully ')"
   ]
  },
  {
   "cell_type": "code",
   "execution_count": null,
   "id": "8f59ed65",
   "metadata": {},
   "outputs": [],
   "source": []
  }
 ],
 "metadata": {
  "kernelspec": {
   "display_name": "Python 3 (ipykernel)",
   "language": "python",
   "name": "python3"
  },
  "language_info": {
   "codemirror_mode": {
    "name": "ipython",
    "version": 3
   },
   "file_extension": ".py",
   "mimetype": "text/x-python",
   "name": "python",
   "nbconvert_exporter": "python",
   "pygments_lexer": "ipython3",
   "version": "3.11.4"
  }
 },
 "nbformat": 4,
 "nbformat_minor": 5
}
