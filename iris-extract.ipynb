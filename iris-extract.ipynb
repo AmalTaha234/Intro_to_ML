{
 "cells": [
  {
   "cell_type": "code",
   "execution_count": 3,
   "id": "bf970847",
   "metadata": {},
   "outputs": [],
   "source": [
    "import pandas as pd\n",
    "import numpy as np \n",
    "from sklearn.decomposition import PCA\n",
    "import warnings\n",
    "warnings.filterwarnings('ignore')\n",
    "from sklearn.model_selection import train_test_split\n",
    "from sklearn.svm import SVC"
   ]
  },
  {
   "cell_type": "code",
   "execution_count": 29,
   "id": "1e83c0bf",
   "metadata": {},
   "outputs": [
    {
     "name": "stdout",
     "output_type": "stream",
     "text": [
      "     sep-len  sep-wid  pet-len  pet-wid           class\n",
      "0        5.1      3.5      1.4      0.2     Iris-setosa\n",
      "1        4.9      3.0      1.4      0.2     Iris-setosa\n",
      "2        4.7      3.2      1.3      0.2     Iris-setosa\n",
      "3        4.6      3.1      1.5      0.2     Iris-setosa\n",
      "4        5.0      3.6      1.4      0.2     Iris-setosa\n",
      "..       ...      ...      ...      ...             ...\n",
      "145      6.7      3.0      5.2      2.3  Iris-virginica\n",
      "146      6.3      2.5      5.0      1.9  Iris-virginica\n",
      "147      6.5      3.0      5.2      2.0  Iris-virginica\n",
      "148      6.2      3.4      5.4      2.3  Iris-virginica\n",
      "149      5.9      3.0      5.1      1.8  Iris-virginica\n",
      "\n",
      "[150 rows x 5 columns]\n"
     ]
    }
   ],
   "source": [
    "data='dataset/iris.csv'\n",
    "df=pd.read_csv(data,header=None)\n",
    "df.columns =['sep-len', 'sep-wid', 'pet-len', 'pet-wid','class']\n",
    "print(df)"
   ]
  },
  {
   "cell_type": "code",
   "execution_count": 30,
   "id": "55f0ad50",
   "metadata": {},
   "outputs": [],
   "source": [
    "array=df.values"
   ]
  },
  {
   "cell_type": "code",
   "execution_count": 31,
   "id": "590064d7",
   "metadata": {},
   "outputs": [
    {
     "data": {
      "text/plain": [
       "(150, 5)"
      ]
     },
     "execution_count": 31,
     "metadata": {},
     "output_type": "execute_result"
    }
   ],
   "source": [
    "array.shape"
   ]
  },
  {
   "cell_type": "code",
   "execution_count": 32,
   "id": "be38b81a",
   "metadata": {},
   "outputs": [
    {
     "name": "stdout",
     "output_type": "stream",
     "text": [
      "(150, 4)\n",
      "(150, 2)\n",
      "File saved successfully \n"
     ]
    }
   ],
   "source": [
    "x=array[:,0:4] # 0 1 2 3 \n",
    "y=array[:,4]\n",
    "pca=PCA(n_components=2)\n",
    "fit=pca.fit(x) #generate item vector\n",
    "###print(fit.components_.shape)\n",
    "x_ext=pca.fit_transform(x)\n",
    "print(x.shape)\n",
    "print(x_ext.shape)\n",
    "\n",
    "# save dataset\n",
    "z = np.array([x_ext[:, 0], x_ext[:, 1],y])\n",
    "z = z.T\n",
    "\n",
    "np.savetxt('dataset/extracted_iris.csv', z, delimiter=',',fmt='%1.2f,%1.2f,%s')\n",
    "\n",
    "print('File saved successfully ')\n",
    "\n"
   ]
  },
  {
   "cell_type": "code",
   "execution_count": 33,
   "id": "96e0520f",
   "metadata": {},
   "outputs": [
    {
     "name": "stdout",
     "output_type": "stream",
     "text": [
      "     sepel  petel           class\n",
      "0    -2.68   0.33     Iris-setosa\n",
      "1    -2.72  -0.17     Iris-setosa\n",
      "2    -2.89  -0.14     Iris-setosa\n",
      "3    -2.75  -0.31     Iris-setosa\n",
      "4    -2.73   0.33     Iris-setosa\n",
      "..     ...    ...             ...\n",
      "145   1.94   0.19  Iris-virginica\n",
      "146   1.53  -0.38  Iris-virginica\n",
      "147   1.76   0.08  Iris-virginica\n",
      "148   1.90   0.12  Iris-virginica\n",
      "149   1.39  -0.28  Iris-virginica\n",
      "\n",
      "[150 rows x 3 columns]\n"
     ]
    }
   ],
   "source": [
    "data='dataset/extracted_iris.csv'\n",
    "df=pd.read_csv(data,header=None)\n",
    "df.columns =['sepel','petel','class']\n",
    "print(df)"
   ]
  },
  {
   "cell_type": "code",
   "execution_count": 34,
   "id": "30636071",
   "metadata": {},
   "outputs": [
    {
     "name": "stdout",
     "output_type": "stream",
     "text": [
      "Enter sepel: 1.79\n",
      "Enter petel: 0.08\n",
      "predicted class is : ['Iris-virginica']\n"
     ]
    }
   ],
   "source": [
    "x=df.iloc[:,0:-1].values # 2 features\n",
    "y=df.iloc[:,-1].values\n",
    "x_train,x_test,y_train,y_test=train_test_split(x,y,test_size=0.25,random_state=1)\n",
    "cls=SVC()\n",
    "cls.fit(x_train,y_train)\n",
    "y_pred=cls.predict(x_test)\n",
    "\n",
    "sepel=input(\"Enter sepel: \")\n",
    "petel=input(\"Enter petel: \")\n",
    "result=cls.predict([[sepel,petel]])\n",
    "print(\"predicted class is : \"+str(result))\n"
   ]
  },
  {
   "cell_type": "code",
   "execution_count": null,
   "id": "20df4f0d",
   "metadata": {},
   "outputs": [],
   "source": []
  }
 ],
 "metadata": {
  "kernelspec": {
   "display_name": "Python 3 (ipykernel)",
   "language": "python",
   "name": "python3"
  },
  "language_info": {
   "codemirror_mode": {
    "name": "ipython",
    "version": 3
   },
   "file_extension": ".py",
   "mimetype": "text/x-python",
   "name": "python",
   "nbconvert_exporter": "python",
   "pygments_lexer": "ipython3",
   "version": "3.11.4"
  }
 },
 "nbformat": 4,
 "nbformat_minor": 5
}
