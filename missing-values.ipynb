{
 "cells": [
  {
   "cell_type": "code",
   "execution_count": 22,
   "id": "f04fe607",
   "metadata": {},
   "outputs": [],
   "source": [
    "import pandas as pd\n",
    "import numpy as np \n",
    "from sklearn.decomposition import PCA\n",
    "import warnings\n",
    "warnings.filterwarnings('ignore')\n",
    "from sklearn.model_selection import train_test_split\n",
    "from sklearn.feature_selection import chi2\n",
    "from sklearn.feature_selection import SelectKBest\n",
    "from sklearn.svm import SVC"
   ]
  },
  {
   "cell_type": "code",
   "execution_count": 13,
   "id": "d3736fdc",
   "metadata": {},
   "outputs": [
    {
     "name": "stdout",
     "output_type": "stream",
     "text": [
      "     sep-len  sep-wid  pet-len  pet-wid           class\n",
      "0        5.1      3.5      1.4      0.2     Iris-setosa\n",
      "1        4.9      3.0      1.4      0.2     Iris-setosa\n",
      "2        4.7      3.2      1.3      0.2     Iris-setosa\n",
      "3        NaN      3.1      1.5      NaN     Iris-setosa\n",
      "4        NaN      3.6      1.4      0.2     Iris-setosa\n",
      "..       ...      ...      ...      ...             ...\n",
      "145      6.7      3.0      5.2      2.3  Iris-virginica\n",
      "146      6.3      2.5      5.0      1.9  Iris-virginica\n",
      "147      6.5      3.0      5.2      2.0  Iris-virginica\n",
      "148      6.2      3.4      5.4      2.3  Iris-virginica\n",
      "149      5.9      3.0      5.1      1.8  Iris-virginica\n",
      "\n",
      "[150 rows x 5 columns]\n"
     ]
    }
   ],
   "source": [
    "data='dataset/iris_Missing.csv'\n",
    "df=pd.read_csv(data,header=None)\n",
    "df.columns =['sep-len', 'sep-wid', 'pet-len', 'pet-wid','class']\n",
    "print(df)"
   ]
  },
  {
   "cell_type": "code",
   "execution_count": 14,
   "id": "558eab0f",
   "metadata": {},
   "outputs": [
    {
     "data": {
      "text/plain": [
       "sep-len    5.870345\n",
       "sep-wid    3.054483\n",
       "pet-len    3.725352\n",
       "pet-wid    1.187324\n",
       "dtype: float64"
      ]
     },
     "execution_count": 14,
     "metadata": {},
     "output_type": "execute_result"
    }
   ],
   "source": [
    "mean_values = df.mean()\n",
    "mean_values"
   ]
  },
  {
   "cell_type": "code",
   "execution_count": 15,
   "id": "896f89c1",
   "metadata": {},
   "outputs": [
    {
     "data": {
      "text/html": [
       "<div>\n",
       "<style scoped>\n",
       "    .dataframe tbody tr th:only-of-type {\n",
       "        vertical-align: middle;\n",
       "    }\n",
       "\n",
       "    .dataframe tbody tr th {\n",
       "        vertical-align: top;\n",
       "    }\n",
       "\n",
       "    .dataframe thead th {\n",
       "        text-align: right;\n",
       "    }\n",
       "</style>\n",
       "<table border=\"1\" class=\"dataframe\">\n",
       "  <thead>\n",
       "    <tr style=\"text-align: right;\">\n",
       "      <th></th>\n",
       "      <th>sep-len</th>\n",
       "      <th>sep-wid</th>\n",
       "      <th>pet-len</th>\n",
       "      <th>pet-wid</th>\n",
       "      <th>class</th>\n",
       "    </tr>\n",
       "  </thead>\n",
       "  <tbody>\n",
       "    <tr>\n",
       "      <th>0</th>\n",
       "      <td>5.100000</td>\n",
       "      <td>3.5</td>\n",
       "      <td>1.4</td>\n",
       "      <td>0.200000</td>\n",
       "      <td>Iris-setosa</td>\n",
       "    </tr>\n",
       "    <tr>\n",
       "      <th>1</th>\n",
       "      <td>4.900000</td>\n",
       "      <td>3.0</td>\n",
       "      <td>1.4</td>\n",
       "      <td>0.200000</td>\n",
       "      <td>Iris-setosa</td>\n",
       "    </tr>\n",
       "    <tr>\n",
       "      <th>2</th>\n",
       "      <td>4.700000</td>\n",
       "      <td>3.2</td>\n",
       "      <td>1.3</td>\n",
       "      <td>0.200000</td>\n",
       "      <td>Iris-setosa</td>\n",
       "    </tr>\n",
       "    <tr>\n",
       "      <th>3</th>\n",
       "      <td>5.870345</td>\n",
       "      <td>3.1</td>\n",
       "      <td>1.5</td>\n",
       "      <td>1.187324</td>\n",
       "      <td>Iris-setosa</td>\n",
       "    </tr>\n",
       "    <tr>\n",
       "      <th>4</th>\n",
       "      <td>5.870345</td>\n",
       "      <td>3.6</td>\n",
       "      <td>1.4</td>\n",
       "      <td>0.200000</td>\n",
       "      <td>Iris-setosa</td>\n",
       "    </tr>\n",
       "    <tr>\n",
       "      <th>...</th>\n",
       "      <td>...</td>\n",
       "      <td>...</td>\n",
       "      <td>...</td>\n",
       "      <td>...</td>\n",
       "      <td>...</td>\n",
       "    </tr>\n",
       "    <tr>\n",
       "      <th>145</th>\n",
       "      <td>6.700000</td>\n",
       "      <td>3.0</td>\n",
       "      <td>5.2</td>\n",
       "      <td>2.300000</td>\n",
       "      <td>Iris-virginica</td>\n",
       "    </tr>\n",
       "    <tr>\n",
       "      <th>146</th>\n",
       "      <td>6.300000</td>\n",
       "      <td>2.5</td>\n",
       "      <td>5.0</td>\n",
       "      <td>1.900000</td>\n",
       "      <td>Iris-virginica</td>\n",
       "    </tr>\n",
       "    <tr>\n",
       "      <th>147</th>\n",
       "      <td>6.500000</td>\n",
       "      <td>3.0</td>\n",
       "      <td>5.2</td>\n",
       "      <td>2.000000</td>\n",
       "      <td>Iris-virginica</td>\n",
       "    </tr>\n",
       "    <tr>\n",
       "      <th>148</th>\n",
       "      <td>6.200000</td>\n",
       "      <td>3.4</td>\n",
       "      <td>5.4</td>\n",
       "      <td>2.300000</td>\n",
       "      <td>Iris-virginica</td>\n",
       "    </tr>\n",
       "    <tr>\n",
       "      <th>149</th>\n",
       "      <td>5.900000</td>\n",
       "      <td>3.0</td>\n",
       "      <td>5.1</td>\n",
       "      <td>1.800000</td>\n",
       "      <td>Iris-virginica</td>\n",
       "    </tr>\n",
       "  </tbody>\n",
       "</table>\n",
       "<p>150 rows × 5 columns</p>\n",
       "</div>"
      ],
      "text/plain": [
       "      sep-len  sep-wid  pet-len   pet-wid           class\n",
       "0    5.100000      3.5      1.4  0.200000     Iris-setosa\n",
       "1    4.900000      3.0      1.4  0.200000     Iris-setosa\n",
       "2    4.700000      3.2      1.3  0.200000     Iris-setosa\n",
       "3    5.870345      3.1      1.5  1.187324     Iris-setosa\n",
       "4    5.870345      3.6      1.4  0.200000     Iris-setosa\n",
       "..        ...      ...      ...       ...             ...\n",
       "145  6.700000      3.0      5.2  2.300000  Iris-virginica\n",
       "146  6.300000      2.5      5.0  1.900000  Iris-virginica\n",
       "147  6.500000      3.0      5.2  2.000000  Iris-virginica\n",
       "148  6.200000      3.4      5.4  2.300000  Iris-virginica\n",
       "149  5.900000      3.0      5.1  1.800000  Iris-virginica\n",
       "\n",
       "[150 rows x 5 columns]"
      ]
     },
     "execution_count": 15,
     "metadata": {},
     "output_type": "execute_result"
    }
   ],
   "source": [
    "df =df.fillna(mean_values)\n",
    "df"
   ]
  },
  {
   "cell_type": "code",
   "execution_count": 16,
   "id": "490227c7",
   "metadata": {},
   "outputs": [],
   "source": [
    "array=df.values"
   ]
  },
  {
   "cell_type": "code",
   "execution_count": 17,
   "id": "a2ab569b",
   "metadata": {},
   "outputs": [
    {
     "data": {
      "text/plain": [
       "(150, 5)"
      ]
     },
     "execution_count": 17,
     "metadata": {},
     "output_type": "execute_result"
    }
   ],
   "source": [
    "array.shape"
   ]
  },
  {
   "cell_type": "code",
   "execution_count": 19,
   "id": "d920a48e",
   "metadata": {},
   "outputs": [
    {
     "name": "stdout",
     "output_type": "stream",
     "text": [
      "(150, 4)\n",
      "(150, 2)\n",
      "File saved successfully \n"
     ]
    }
   ],
   "source": [
    "x=array[:,0:4] # 0 1 2 3 \n",
    "y=array[:,4]\n",
    "pca=PCA(n_components=2)\n",
    "fit=pca.fit(x)\n",
    "x_ext=pca.fit_transform(x)\n",
    "print(x.shape)\n",
    "print(x_ext.shape)\n",
    "# save dataset\n",
    "z = np.array([x_ext[:, 0], x_ext[:, 1],y])\n",
    "z = z.T\n",
    "np.savetxt('dataset/extracted_iris.csv', z, delimiter=',',fmt='%1.2f,%1.2f,%s')\n",
    "print('File saved successfully ')\n"
   ]
  },
  {
   "cell_type": "code",
   "execution_count": 20,
   "id": "1dd42b73",
   "metadata": {},
   "outputs": [
    {
     "data": {
      "text/html": [
       "<div>\n",
       "<style scoped>\n",
       "    .dataframe tbody tr th:only-of-type {\n",
       "        vertical-align: middle;\n",
       "    }\n",
       "\n",
       "    .dataframe tbody tr th {\n",
       "        vertical-align: top;\n",
       "    }\n",
       "\n",
       "    .dataframe thead th {\n",
       "        text-align: right;\n",
       "    }\n",
       "</style>\n",
       "<table border=\"1\" class=\"dataframe\">\n",
       "  <thead>\n",
       "    <tr style=\"text-align: right;\">\n",
       "      <th></th>\n",
       "      <th>sepel</th>\n",
       "      <th>petel</th>\n",
       "      <th>class</th>\n",
       "    </tr>\n",
       "  </thead>\n",
       "  <tbody>\n",
       "    <tr>\n",
       "      <th>0</th>\n",
       "      <td>-2.66</td>\n",
       "      <td>0.29</td>\n",
       "      <td>Iris-setosa</td>\n",
       "    </tr>\n",
       "    <tr>\n",
       "      <th>1</th>\n",
       "      <td>-2.69</td>\n",
       "      <td>-0.17</td>\n",
       "      <td>Iris-setosa</td>\n",
       "    </tr>\n",
       "    <tr>\n",
       "      <th>2</th>\n",
       "      <td>-2.87</td>\n",
       "      <td>-0.17</td>\n",
       "      <td>Iris-setosa</td>\n",
       "    </tr>\n",
       "    <tr>\n",
       "      <th>3</th>\n",
       "      <td>-1.93</td>\n",
       "      <td>0.53</td>\n",
       "      <td>Iris-setosa</td>\n",
       "    </tr>\n",
       "    <tr>\n",
       "      <th>4</th>\n",
       "      <td>-2.40</td>\n",
       "      <td>0.93</td>\n",
       "      <td>Iris-setosa</td>\n",
       "    </tr>\n",
       "    <tr>\n",
       "      <th>...</th>\n",
       "      <td>...</td>\n",
       "      <td>...</td>\n",
       "      <td>...</td>\n",
       "    </tr>\n",
       "    <tr>\n",
       "      <th>145</th>\n",
       "      <td>1.96</td>\n",
       "      <td>0.18</td>\n",
       "      <td>Iris-virginica</td>\n",
       "    </tr>\n",
       "    <tr>\n",
       "      <th>146</th>\n",
       "      <td>1.55</td>\n",
       "      <td>-0.36</td>\n",
       "      <td>Iris-virginica</td>\n",
       "    </tr>\n",
       "    <tr>\n",
       "      <th>147</th>\n",
       "      <td>1.79</td>\n",
       "      <td>0.05</td>\n",
       "      <td>Iris-virginica</td>\n",
       "    </tr>\n",
       "    <tr>\n",
       "      <th>148</th>\n",
       "      <td>1.92</td>\n",
       "      <td>0.01</td>\n",
       "      <td>Iris-virginica</td>\n",
       "    </tr>\n",
       "    <tr>\n",
       "      <th>149</th>\n",
       "      <td>1.42</td>\n",
       "      <td>-0.36</td>\n",
       "      <td>Iris-virginica</td>\n",
       "    </tr>\n",
       "  </tbody>\n",
       "</table>\n",
       "<p>150 rows × 3 columns</p>\n",
       "</div>"
      ],
      "text/plain": [
       "     sepel  petel           class\n",
       "0    -2.66   0.29     Iris-setosa\n",
       "1    -2.69  -0.17     Iris-setosa\n",
       "2    -2.87  -0.17     Iris-setosa\n",
       "3    -1.93   0.53     Iris-setosa\n",
       "4    -2.40   0.93     Iris-setosa\n",
       "..     ...    ...             ...\n",
       "145   1.96   0.18  Iris-virginica\n",
       "146   1.55  -0.36  Iris-virginica\n",
       "147   1.79   0.05  Iris-virginica\n",
       "148   1.92   0.01  Iris-virginica\n",
       "149   1.42  -0.36  Iris-virginica\n",
       "\n",
       "[150 rows x 3 columns]"
      ]
     },
     "execution_count": 20,
     "metadata": {},
     "output_type": "execute_result"
    }
   ],
   "source": [
    "data='dataset/extracted_iris.csv'\n",
    "df=pd.read_csv(data,header=None)\n",
    "df.columns =['sepel','petel','class']\n",
    "df"
   ]
  },
  {
   "cell_type": "code",
   "execution_count": 23,
   "id": "99ce37b5",
   "metadata": {},
   "outputs": [
    {
     "name": "stdout",
     "output_type": "stream",
     "text": [
      "Enter sepel: 1.42\n",
      "Enter petel: -0.30\n",
      "predicted class is : ['Iris-virginica']\n"
     ]
    }
   ],
   "source": [
    "x=df.iloc[:,0:-1].values # 2 features\n",
    "y=df.iloc[:,-1].values\n",
    "x_train,x_test,y_train,y_test=train_test_split(x,y,test_size=0.25,random_state=1)\n",
    "cls=SVC()\n",
    "cls.fit(x_train,y_train)\n",
    "y_pred=cls.predict(x_test)\n",
    "\n",
    "sepel=input(\"Enter sepel: \")\n",
    "petel=input(\"Enter petel: \")\n",
    "result=cls.predict([[sepel,petel]])\n",
    "print(\"predicted class is : \"+str(result))\n"
   ]
  },
  {
   "cell_type": "code",
   "execution_count": null,
   "id": "ba958853",
   "metadata": {},
   "outputs": [],
   "source": []
  }
 ],
 "metadata": {
  "kernelspec": {
   "display_name": "Python 3 (ipykernel)",
   "language": "python",
   "name": "python3"
  },
  "language_info": {
   "codemirror_mode": {
    "name": "ipython",
    "version": 3
   },
   "file_extension": ".py",
   "mimetype": "text/x-python",
   "name": "python",
   "nbconvert_exporter": "python",
   "pygments_lexer": "ipython3",
   "version": "3.11.4"
  }
 },
 "nbformat": 4,
 "nbformat_minor": 5
}
